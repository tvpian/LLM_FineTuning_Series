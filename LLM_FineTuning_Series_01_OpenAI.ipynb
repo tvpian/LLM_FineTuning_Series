{
  "nbformat": 4,
  "nbformat_minor": 0,
  "metadata": {
    "colab": {
      "provenance": [],
      "authorship_tag": "ABX9TyNzPBJLkwLedAnMET10+y6F",
      "include_colab_link": true
    },
    "kernelspec": {
      "name": "python3",
      "display_name": "Python 3"
    },
    "language_info": {
      "name": "python"
    }
  },
  "cells": [
    {
      "cell_type": "markdown",
      "metadata": {
        "id": "view-in-github",
        "colab_type": "text"
      },
      "source": [
        "<a href=\"https://colab.research.google.com/github/tvpian/LLM_FineTuning_Series/blob/main/LLM_FineTuning_Series_01_OpenAI.ipynb\" target=\"_parent\"><img src=\"https://colab.research.google.com/assets/colab-badge.svg\" alt=\"Open In Colab\"/></a>"
      ]
    },
    {
      "cell_type": "code",
      "source": [
        "!pip install openai"
      ],
      "metadata": {
        "colab": {
          "base_uri": "https://localhost:8080/"
        },
        "id": "oCJdP-NtlzvI",
        "outputId": "1bca3044-83d0-4d22-c4ad-0315139c500f"
      },
      "execution_count": 1,
      "outputs": [
        {
          "output_type": "stream",
          "name": "stdout",
          "text": [
            "Collecting openai\n",
            "  Downloading openai-1.33.0-py3-none-any.whl (325 kB)\n",
            "\u001b[2K     \u001b[90m━━━━━━━━━━━━━━━━━━━━━━━━━━━━━━━━━━━━━━━━\u001b[0m \u001b[32m325.5/325.5 kB\u001b[0m \u001b[31m5.0 MB/s\u001b[0m eta \u001b[36m0:00:00\u001b[0m\n",
            "\u001b[?25hRequirement already satisfied: anyio<5,>=3.5.0 in /usr/local/lib/python3.10/dist-packages (from openai) (3.7.1)\n",
            "Requirement already satisfied: distro<2,>=1.7.0 in /usr/lib/python3/dist-packages (from openai) (1.7.0)\n",
            "Collecting httpx<1,>=0.23.0 (from openai)\n",
            "  Downloading httpx-0.27.0-py3-none-any.whl (75 kB)\n",
            "\u001b[2K     \u001b[90m━━━━━━━━━━━━━━━━━━━━━━━━━━━━━━━━━━━━━━━━\u001b[0m \u001b[32m75.6/75.6 kB\u001b[0m \u001b[31m4.9 MB/s\u001b[0m eta \u001b[36m0:00:00\u001b[0m\n",
            "\u001b[?25hRequirement already satisfied: pydantic<3,>=1.9.0 in /usr/local/lib/python3.10/dist-packages (from openai) (2.7.3)\n",
            "Requirement already satisfied: sniffio in /usr/local/lib/python3.10/dist-packages (from openai) (1.3.1)\n",
            "Requirement already satisfied: tqdm>4 in /usr/local/lib/python3.10/dist-packages (from openai) (4.66.4)\n",
            "Requirement already satisfied: typing-extensions<5,>=4.7 in /usr/local/lib/python3.10/dist-packages (from openai) (4.12.1)\n",
            "Requirement already satisfied: idna>=2.8 in /usr/local/lib/python3.10/dist-packages (from anyio<5,>=3.5.0->openai) (3.7)\n",
            "Requirement already satisfied: exceptiongroup in /usr/local/lib/python3.10/dist-packages (from anyio<5,>=3.5.0->openai) (1.2.1)\n",
            "Requirement already satisfied: certifi in /usr/local/lib/python3.10/dist-packages (from httpx<1,>=0.23.0->openai) (2024.6.2)\n",
            "Collecting httpcore==1.* (from httpx<1,>=0.23.0->openai)\n",
            "  Downloading httpcore-1.0.5-py3-none-any.whl (77 kB)\n",
            "\u001b[2K     \u001b[90m━━━━━━━━━━━━━━━━━━━━━━━━━━━━━━━━━━━━━━━━\u001b[0m \u001b[32m77.9/77.9 kB\u001b[0m \u001b[31m6.3 MB/s\u001b[0m eta \u001b[36m0:00:00\u001b[0m\n",
            "\u001b[?25hCollecting h11<0.15,>=0.13 (from httpcore==1.*->httpx<1,>=0.23.0->openai)\n",
            "  Downloading h11-0.14.0-py3-none-any.whl (58 kB)\n",
            "\u001b[2K     \u001b[90m━━━━━━━━━━━━━━━━━━━━━━━━━━━━━━━━━━━━━━━━\u001b[0m \u001b[32m58.3/58.3 kB\u001b[0m \u001b[31m7.6 MB/s\u001b[0m eta \u001b[36m0:00:00\u001b[0m\n",
            "\u001b[?25hRequirement already satisfied: annotated-types>=0.4.0 in /usr/local/lib/python3.10/dist-packages (from pydantic<3,>=1.9.0->openai) (0.7.0)\n",
            "Requirement already satisfied: pydantic-core==2.18.4 in /usr/local/lib/python3.10/dist-packages (from pydantic<3,>=1.9.0->openai) (2.18.4)\n",
            "Installing collected packages: h11, httpcore, httpx, openai\n",
            "Successfully installed h11-0.14.0 httpcore-1.0.5 httpx-0.27.0 openai-1.33.0\n"
          ]
        }
      ]
    },
    {
      "cell_type": "code",
      "execution_count": 2,
      "metadata": {
        "id": "33z2wkGKlcef"
      },
      "outputs": [],
      "source": [
        "import openai"
      ]
    },
    {
      "cell_type": "code",
      "source": [
        "from openai import OpenAI"
      ],
      "metadata": {
        "id": "7hCdqmzKlvrm"
      },
      "execution_count": 3,
      "outputs": []
    },
    {
      "cell_type": "code",
      "source": [
        "help(OpenAI)"
      ],
      "metadata": {
        "colab": {
          "base_uri": "https://localhost:8080/"
        },
        "collapsed": true,
        "id": "XsIqFnvklyKo",
        "outputId": "701e3ea4-bbbf-473f-b6dd-d1b799ee4c82"
      },
      "execution_count": 4,
      "outputs": [
        {
          "output_type": "stream",
          "name": "stdout",
          "text": [
            "Help on class OpenAI in module openai:\n",
            "\n",
            "class OpenAI(openai._base_client.SyncAPIClient)\n",
            " |  OpenAI(*, api_key: 'str | None' = None, organization: 'str | None' = None, project: 'str | None' = None, base_url: 'str | httpx.URL | None' = None, timeout: 'Union[float, Timeout, None, NotGiven]' = NOT_GIVEN, max_retries: 'int' = 2, default_headers: 'Mapping[str, str] | None' = None, default_query: 'Mapping[str, object] | None' = None, http_client: 'httpx.Client | None' = None, _strict_response_validation: 'bool' = False) -> 'None'\n",
            " |  \n",
            " |  Method resolution order:\n",
            " |      OpenAI\n",
            " |      openai._base_client.SyncAPIClient\n",
            " |      openai._base_client.BaseClient\n",
            " |      typing.Generic\n",
            " |      builtins.object\n",
            " |  \n",
            " |  Methods defined here:\n",
            " |  \n",
            " |  __init__(self, *, api_key: 'str | None' = None, organization: 'str | None' = None, project: 'str | None' = None, base_url: 'str | httpx.URL | None' = None, timeout: 'Union[float, Timeout, None, NotGiven]' = NOT_GIVEN, max_retries: 'int' = 2, default_headers: 'Mapping[str, str] | None' = None, default_query: 'Mapping[str, object] | None' = None, http_client: 'httpx.Client | None' = None, _strict_response_validation: 'bool' = False) -> 'None'\n",
            " |      Construct a new synchronous openai client instance.\n",
            " |      \n",
            " |      This automatically infers the following arguments from their corresponding environment variables if they are not provided:\n",
            " |      - `api_key` from `OPENAI_API_KEY`\n",
            " |      - `organization` from `OPENAI_ORG_ID`\n",
            " |      - `project` from `OPENAI_PROJECT_ID`\n",
            " |  \n",
            " |  copy(self, *, api_key: 'str | None' = None, organization: 'str | None' = None, project: 'str | None' = None, base_url: 'str | httpx.URL | None' = None, timeout: 'float | Timeout | None | NotGiven' = NOT_GIVEN, http_client: 'httpx.Client | None' = None, max_retries: 'int | NotGiven' = NOT_GIVEN, default_headers: 'Mapping[str, str] | None' = None, set_default_headers: 'Mapping[str, str] | None' = None, default_query: 'Mapping[str, object] | None' = None, set_default_query: 'Mapping[str, object] | None' = None, _extra_kwargs: 'Mapping[str, Any]' = {}) -> 'Self'\n",
            " |      Create a new client instance re-using the same options given to the current client with optional overriding.\n",
            " |  \n",
            " |  with_options = copy(self, *, api_key: 'str | None' = None, organization: 'str | None' = None, project: 'str | None' = None, base_url: 'str | httpx.URL | None' = None, timeout: 'float | Timeout | None | NotGiven' = NOT_GIVEN, http_client: 'httpx.Client | None' = None, max_retries: 'int | NotGiven' = NOT_GIVEN, default_headers: 'Mapping[str, str] | None' = None, set_default_headers: 'Mapping[str, str] | None' = None, default_query: 'Mapping[str, object] | None' = None, set_default_query: 'Mapping[str, object] | None' = None, _extra_kwargs: 'Mapping[str, Any]' = {}) -> 'Self'\n",
            " |  \n",
            " |  ----------------------------------------------------------------------\n",
            " |  Readonly properties defined here:\n",
            " |  \n",
            " |  auth_headers\n",
            " |  \n",
            " |  default_headers\n",
            " |  \n",
            " |  qs\n",
            " |  \n",
            " |  ----------------------------------------------------------------------\n",
            " |  Data and other attributes defined here:\n",
            " |  \n",
            " |  __annotations__ = {'api_key': 'str', 'audio': 'resources.Audio', 'batc...\n",
            " |  \n",
            " |  __parameters__ = ()\n",
            " |  \n",
            " |  ----------------------------------------------------------------------\n",
            " |  Methods inherited from openai._base_client.SyncAPIClient:\n",
            " |  \n",
            " |  __enter__(self: '_T') -> '_T'\n",
            " |  \n",
            " |  __exit__(self, exc_type: 'type[BaseException] | None', exc: 'BaseException | None', exc_tb: 'TracebackType | None') -> 'None'\n",
            " |  \n",
            " |  close(self) -> 'None'\n",
            " |      Close the underlying HTTPX client.\n",
            " |      \n",
            " |      The client will *not* be usable after this.\n",
            " |  \n",
            " |  delete(self, path: 'str', *, cast_to: 'Type[ResponseT]', body: 'Body | None' = None, options: 'RequestOptions' = {}) -> 'ResponseT'\n",
            " |  \n",
            " |  get(self, path: 'str', *, cast_to: 'Type[ResponseT]', options: 'RequestOptions' = {}, stream: 'bool' = False, stream_cls: 'type[_StreamT] | None' = None) -> 'ResponseT | _StreamT'\n",
            " |  \n",
            " |  get_api_list(self, path: 'str', *, model: 'Type[object]', page: 'Type[SyncPageT]', body: 'Body | None' = None, options: 'RequestOptions' = {}, method: 'str' = 'get') -> 'SyncPageT'\n",
            " |  \n",
            " |  is_closed(self) -> 'bool'\n",
            " |  \n",
            " |  patch(self, path: 'str', *, cast_to: 'Type[ResponseT]', body: 'Body | None' = None, options: 'RequestOptions' = {}) -> 'ResponseT'\n",
            " |  \n",
            " |  post(self, path: 'str', *, cast_to: 'Type[ResponseT]', body: 'Body | None' = None, options: 'RequestOptions' = {}, files: 'RequestFiles | None' = None, stream: 'bool' = False, stream_cls: 'type[_StreamT] | None' = None) -> 'ResponseT | _StreamT'\n",
            " |  \n",
            " |  put(self, path: 'str', *, cast_to: 'Type[ResponseT]', body: 'Body | None' = None, files: 'RequestFiles | None' = None, options: 'RequestOptions' = {}) -> 'ResponseT'\n",
            " |  \n",
            " |  request(self, cast_to: 'Type[ResponseT]', options: 'FinalRequestOptions', remaining_retries: 'Optional[int]' = None, *, stream: 'bool' = False, stream_cls: 'type[_StreamT] | None' = None) -> 'ResponseT | _StreamT'\n",
            " |  \n",
            " |  ----------------------------------------------------------------------\n",
            " |  Data and other attributes inherited from openai._base_client.SyncAPIClient:\n",
            " |  \n",
            " |  __orig_bases__ = (openai._base_client.BaseClient[httpx.Client, openai....\n",
            " |  \n",
            " |  ----------------------------------------------------------------------\n",
            " |  Methods inherited from openai._base_client.BaseClient:\n",
            " |  \n",
            " |  platform_headers(self) -> 'Dict[str, str]'\n",
            " |  \n",
            " |  ----------------------------------------------------------------------\n",
            " |  Readonly properties inherited from openai._base_client.BaseClient:\n",
            " |  \n",
            " |  custom_auth\n",
            " |  \n",
            " |  user_agent\n",
            " |  \n",
            " |  ----------------------------------------------------------------------\n",
            " |  Data descriptors inherited from openai._base_client.BaseClient:\n",
            " |  \n",
            " |  __dict__\n",
            " |      dictionary for instance variables (if defined)\n",
            " |  \n",
            " |  __weakref__\n",
            " |      list of weak references to the object (if defined)\n",
            " |  \n",
            " |  base_url\n",
            " |  \n",
            " |  ----------------------------------------------------------------------\n",
            " |  Class methods inherited from typing.Generic:\n",
            " |  \n",
            " |  __class_getitem__(params) from builtins.type\n",
            " |  \n",
            " |  __init_subclass__(*args, **kwargs) from builtins.type\n",
            " |      This method is called when a class is subclassed.\n",
            " |      \n",
            " |      The default implementation does nothing. It may be\n",
            " |      overridden to extend subclasses.\n",
            "\n"
          ]
        }
      ]
    },
    {
      "cell_type": "code",
      "source": [
        "client = OpenAI(api_key='')\n"
      ],
      "metadata": {
        "id": "pskHPO2xl_kK"
      },
      "execution_count": 5,
      "outputs": []
    },
    {
      "cell_type": "code",
      "source": [
        "# Environment Variable\n",
        "import os\n",
        "os.environ['OPENAI_API_KEY'] = ''\n"
      ],
      "metadata": {
        "id": "qZvgr-c4mLnR"
      },
      "execution_count": 6,
      "outputs": []
    },
    {
      "cell_type": "code",
      "source": [
        "from openai import OpenAI\n",
        "client = OpenAI()\n",
        "\n",
        "response = client.chat.completions.create(\n",
        "  model=\"gpt-3.5-turbo\",\n",
        "  messages=[\n",
        "    {\"role\": \"system\", \"content\": \"You are a helpful assistant.\"},\n",
        "    {\"role\": \"user\", \"content\": \"Who won the world series in 2020?\"},\n",
        "    {\"role\": \"assistant\", \"content\": \"The Los Angeles Dodgers won the World Series in 2020.\"},\n",
        "    {\"role\": \"user\", \"content\": \"Where was it played?\"}\n",
        "  ]\n",
        ")"
      ],
      "metadata": {
        "id": "cfEEH22cmTYT"
      },
      "execution_count": 7,
      "outputs": []
    },
    {
      "cell_type": "code",
      "source": [
        "print(response.choices[0].message.content)"
      ],
      "metadata": {
        "colab": {
          "base_uri": "https://localhost:8080/"
        },
        "id": "36m9hKNVm8J6",
        "outputId": "09e3f3b8-08c0-4f1e-f65c-45bf8b50df40"
      },
      "execution_count": 8,
      "outputs": [
        {
          "output_type": "stream",
          "name": "stdout",
          "text": [
            "The World Series in 2020 was played at Globe Life Field in Arlington, Texas.\n"
          ]
        }
      ]
    },
    {
      "cell_type": "code",
      "source": [
        "import pandas as pd"
      ],
      "metadata": {
        "id": "-0tkRPdpo2BD"
      },
      "execution_count": 9,
      "outputs": []
    },
    {
      "cell_type": "code",
      "source": [
        "medical_reports = pd.read_csv('reports.csv')"
      ],
      "metadata": {
        "id": "K56Ajn0XrWYi"
      },
      "execution_count": 11,
      "outputs": []
    },
    {
      "cell_type": "code",
      "source": [
        "medical_reports.head()"
      ],
      "metadata": {
        "colab": {
          "base_uri": "https://localhost:8080/",
          "height": 206
        },
        "id": "j6HHuhsSrcLG",
        "outputId": "417cc630-00a0-42b7-93c4-abea0b4217c3"
      },
      "execution_count": 12,
      "outputs": [
        {
          "output_type": "execute_result",
          "data": {
            "text/plain": [
              "            medical_specialty  \\\n",
              "0  Cardiovascular / Pulmonary   \n",
              "1  Cardiovascular / Pulmonary   \n",
              "2  Cardiovascular / Pulmonary   \n",
              "3  Cardiovascular / Pulmonary   \n",
              "4  Cardiovascular / Pulmonary   \n",
              "\n",
              "                                              report  \n",
              "0  2-D M-MODE: , ,1.  Left atrial enlargement wit...  \n",
              "1  1.  The left ventricular cavity size and wall ...  \n",
              "2  2-D ECHOCARDIOGRAM,Multiple views of the heart...  \n",
              "3  DESCRIPTION:,1.  Normal cardiac chambers size....  \n",
              "4  2-D STUDY,1. Mild aortic stenosis, widely calc...  "
            ],
            "text/html": [
              "\n",
              "  <div id=\"df-060b8a66-af19-4d2b-94b5-382a75d59320\" class=\"colab-df-container\">\n",
              "    <div>\n",
              "<style scoped>\n",
              "    .dataframe tbody tr th:only-of-type {\n",
              "        vertical-align: middle;\n",
              "    }\n",
              "\n",
              "    .dataframe tbody tr th {\n",
              "        vertical-align: top;\n",
              "    }\n",
              "\n",
              "    .dataframe thead th {\n",
              "        text-align: right;\n",
              "    }\n",
              "</style>\n",
              "<table border=\"1\" class=\"dataframe\">\n",
              "  <thead>\n",
              "    <tr style=\"text-align: right;\">\n",
              "      <th></th>\n",
              "      <th>medical_specialty</th>\n",
              "      <th>report</th>\n",
              "    </tr>\n",
              "  </thead>\n",
              "  <tbody>\n",
              "    <tr>\n",
              "      <th>0</th>\n",
              "      <td>Cardiovascular / Pulmonary</td>\n",
              "      <td>2-D M-MODE: , ,1.  Left atrial enlargement wit...</td>\n",
              "    </tr>\n",
              "    <tr>\n",
              "      <th>1</th>\n",
              "      <td>Cardiovascular / Pulmonary</td>\n",
              "      <td>1.  The left ventricular cavity size and wall ...</td>\n",
              "    </tr>\n",
              "    <tr>\n",
              "      <th>2</th>\n",
              "      <td>Cardiovascular / Pulmonary</td>\n",
              "      <td>2-D ECHOCARDIOGRAM,Multiple views of the heart...</td>\n",
              "    </tr>\n",
              "    <tr>\n",
              "      <th>3</th>\n",
              "      <td>Cardiovascular / Pulmonary</td>\n",
              "      <td>DESCRIPTION:,1.  Normal cardiac chambers size....</td>\n",
              "    </tr>\n",
              "    <tr>\n",
              "      <th>4</th>\n",
              "      <td>Cardiovascular / Pulmonary</td>\n",
              "      <td>2-D STUDY,1. Mild aortic stenosis, widely calc...</td>\n",
              "    </tr>\n",
              "  </tbody>\n",
              "</table>\n",
              "</div>\n",
              "    <div class=\"colab-df-buttons\">\n",
              "\n",
              "  <div class=\"colab-df-container\">\n",
              "    <button class=\"colab-df-convert\" onclick=\"convertToInteractive('df-060b8a66-af19-4d2b-94b5-382a75d59320')\"\n",
              "            title=\"Convert this dataframe to an interactive table.\"\n",
              "            style=\"display:none;\">\n",
              "\n",
              "  <svg xmlns=\"http://www.w3.org/2000/svg\" height=\"24px\" viewBox=\"0 -960 960 960\">\n",
              "    <path d=\"M120-120v-720h720v720H120Zm60-500h600v-160H180v160Zm220 220h160v-160H400v160Zm0 220h160v-160H400v160ZM180-400h160v-160H180v160Zm440 0h160v-160H620v160ZM180-180h160v-160H180v160Zm440 0h160v-160H620v160Z\"/>\n",
              "  </svg>\n",
              "    </button>\n",
              "\n",
              "  <style>\n",
              "    .colab-df-container {\n",
              "      display:flex;\n",
              "      gap: 12px;\n",
              "    }\n",
              "\n",
              "    .colab-df-convert {\n",
              "      background-color: #E8F0FE;\n",
              "      border: none;\n",
              "      border-radius: 50%;\n",
              "      cursor: pointer;\n",
              "      display: none;\n",
              "      fill: #1967D2;\n",
              "      height: 32px;\n",
              "      padding: 0 0 0 0;\n",
              "      width: 32px;\n",
              "    }\n",
              "\n",
              "    .colab-df-convert:hover {\n",
              "      background-color: #E2EBFA;\n",
              "      box-shadow: 0px 1px 2px rgba(60, 64, 67, 0.3), 0px 1px 3px 1px rgba(60, 64, 67, 0.15);\n",
              "      fill: #174EA6;\n",
              "    }\n",
              "\n",
              "    .colab-df-buttons div {\n",
              "      margin-bottom: 4px;\n",
              "    }\n",
              "\n",
              "    [theme=dark] .colab-df-convert {\n",
              "      background-color: #3B4455;\n",
              "      fill: #D2E3FC;\n",
              "    }\n",
              "\n",
              "    [theme=dark] .colab-df-convert:hover {\n",
              "      background-color: #434B5C;\n",
              "      box-shadow: 0px 1px 3px 1px rgba(0, 0, 0, 0.15);\n",
              "      filter: drop-shadow(0px 1px 2px rgba(0, 0, 0, 0.3));\n",
              "      fill: #FFFFFF;\n",
              "    }\n",
              "  </style>\n",
              "\n",
              "    <script>\n",
              "      const buttonEl =\n",
              "        document.querySelector('#df-060b8a66-af19-4d2b-94b5-382a75d59320 button.colab-df-convert');\n",
              "      buttonEl.style.display =\n",
              "        google.colab.kernel.accessAllowed ? 'block' : 'none';\n",
              "\n",
              "      async function convertToInteractive(key) {\n",
              "        const element = document.querySelector('#df-060b8a66-af19-4d2b-94b5-382a75d59320');\n",
              "        const dataTable =\n",
              "          await google.colab.kernel.invokeFunction('convertToInteractive',\n",
              "                                                    [key], {});\n",
              "        if (!dataTable) return;\n",
              "\n",
              "        const docLinkHtml = 'Like what you see? Visit the ' +\n",
              "          '<a target=\"_blank\" href=https://colab.research.google.com/notebooks/data_table.ipynb>data table notebook</a>'\n",
              "          + ' to learn more about interactive tables.';\n",
              "        element.innerHTML = '';\n",
              "        dataTable['output_type'] = 'display_data';\n",
              "        await google.colab.output.renderOutput(dataTable, element);\n",
              "        const docLink = document.createElement('div');\n",
              "        docLink.innerHTML = docLinkHtml;\n",
              "        element.appendChild(docLink);\n",
              "      }\n",
              "    </script>\n",
              "  </div>\n",
              "\n",
              "\n",
              "<div id=\"df-bd1b1623-6cc0-43a5-a54a-8f88d6188dc9\">\n",
              "  <button class=\"colab-df-quickchart\" onclick=\"quickchart('df-bd1b1623-6cc0-43a5-a54a-8f88d6188dc9')\"\n",
              "            title=\"Suggest charts\"\n",
              "            style=\"display:none;\">\n",
              "\n",
              "<svg xmlns=\"http://www.w3.org/2000/svg\" height=\"24px\"viewBox=\"0 0 24 24\"\n",
              "     width=\"24px\">\n",
              "    <g>\n",
              "        <path d=\"M19 3H5c-1.1 0-2 .9-2 2v14c0 1.1.9 2 2 2h14c1.1 0 2-.9 2-2V5c0-1.1-.9-2-2-2zM9 17H7v-7h2v7zm4 0h-2V7h2v10zm4 0h-2v-4h2v4z\"/>\n",
              "    </g>\n",
              "</svg>\n",
              "  </button>\n",
              "\n",
              "<style>\n",
              "  .colab-df-quickchart {\n",
              "      --bg-color: #E8F0FE;\n",
              "      --fill-color: #1967D2;\n",
              "      --hover-bg-color: #E2EBFA;\n",
              "      --hover-fill-color: #174EA6;\n",
              "      --disabled-fill-color: #AAA;\n",
              "      --disabled-bg-color: #DDD;\n",
              "  }\n",
              "\n",
              "  [theme=dark] .colab-df-quickchart {\n",
              "      --bg-color: #3B4455;\n",
              "      --fill-color: #D2E3FC;\n",
              "      --hover-bg-color: #434B5C;\n",
              "      --hover-fill-color: #FFFFFF;\n",
              "      --disabled-bg-color: #3B4455;\n",
              "      --disabled-fill-color: #666;\n",
              "  }\n",
              "\n",
              "  .colab-df-quickchart {\n",
              "    background-color: var(--bg-color);\n",
              "    border: none;\n",
              "    border-radius: 50%;\n",
              "    cursor: pointer;\n",
              "    display: none;\n",
              "    fill: var(--fill-color);\n",
              "    height: 32px;\n",
              "    padding: 0;\n",
              "    width: 32px;\n",
              "  }\n",
              "\n",
              "  .colab-df-quickchart:hover {\n",
              "    background-color: var(--hover-bg-color);\n",
              "    box-shadow: 0 1px 2px rgba(60, 64, 67, 0.3), 0 1px 3px 1px rgba(60, 64, 67, 0.15);\n",
              "    fill: var(--button-hover-fill-color);\n",
              "  }\n",
              "\n",
              "  .colab-df-quickchart-complete:disabled,\n",
              "  .colab-df-quickchart-complete:disabled:hover {\n",
              "    background-color: var(--disabled-bg-color);\n",
              "    fill: var(--disabled-fill-color);\n",
              "    box-shadow: none;\n",
              "  }\n",
              "\n",
              "  .colab-df-spinner {\n",
              "    border: 2px solid var(--fill-color);\n",
              "    border-color: transparent;\n",
              "    border-bottom-color: var(--fill-color);\n",
              "    animation:\n",
              "      spin 1s steps(1) infinite;\n",
              "  }\n",
              "\n",
              "  @keyframes spin {\n",
              "    0% {\n",
              "      border-color: transparent;\n",
              "      border-bottom-color: var(--fill-color);\n",
              "      border-left-color: var(--fill-color);\n",
              "    }\n",
              "    20% {\n",
              "      border-color: transparent;\n",
              "      border-left-color: var(--fill-color);\n",
              "      border-top-color: var(--fill-color);\n",
              "    }\n",
              "    30% {\n",
              "      border-color: transparent;\n",
              "      border-left-color: var(--fill-color);\n",
              "      border-top-color: var(--fill-color);\n",
              "      border-right-color: var(--fill-color);\n",
              "    }\n",
              "    40% {\n",
              "      border-color: transparent;\n",
              "      border-right-color: var(--fill-color);\n",
              "      border-top-color: var(--fill-color);\n",
              "    }\n",
              "    60% {\n",
              "      border-color: transparent;\n",
              "      border-right-color: var(--fill-color);\n",
              "    }\n",
              "    80% {\n",
              "      border-color: transparent;\n",
              "      border-right-color: var(--fill-color);\n",
              "      border-bottom-color: var(--fill-color);\n",
              "    }\n",
              "    90% {\n",
              "      border-color: transparent;\n",
              "      border-bottom-color: var(--fill-color);\n",
              "    }\n",
              "  }\n",
              "</style>\n",
              "\n",
              "  <script>\n",
              "    async function quickchart(key) {\n",
              "      const quickchartButtonEl =\n",
              "        document.querySelector('#' + key + ' button');\n",
              "      quickchartButtonEl.disabled = true;  // To prevent multiple clicks.\n",
              "      quickchartButtonEl.classList.add('colab-df-spinner');\n",
              "      try {\n",
              "        const charts = await google.colab.kernel.invokeFunction(\n",
              "            'suggestCharts', [key], {});\n",
              "      } catch (error) {\n",
              "        console.error('Error during call to suggestCharts:', error);\n",
              "      }\n",
              "      quickchartButtonEl.classList.remove('colab-df-spinner');\n",
              "      quickchartButtonEl.classList.add('colab-df-quickchart-complete');\n",
              "    }\n",
              "    (() => {\n",
              "      let quickchartButtonEl =\n",
              "        document.querySelector('#df-bd1b1623-6cc0-43a5-a54a-8f88d6188dc9 button');\n",
              "      quickchartButtonEl.style.display =\n",
              "        google.colab.kernel.accessAllowed ? 'block' : 'none';\n",
              "    })();\n",
              "  </script>\n",
              "</div>\n",
              "\n",
              "    </div>\n",
              "  </div>\n"
            ],
            "application/vnd.google.colaboratory.intrinsic+json": {
              "type": "dataframe",
              "variable_name": "medical_reports",
              "summary": "{\n  \"name\": \"medical_reports\",\n  \"rows\": 2179,\n  \"fields\": [\n    {\n      \"column\": \"medical_specialty\",\n      \"properties\": {\n        \"dtype\": \"category\",\n        \"num_unique_values\": 5,\n        \"samples\": [\n          \"Neurology\",\n          \"Gastroenterology\",\n          \"Surgery\"\n        ],\n        \"semantic_type\": \"\",\n        \"description\": \"\"\n      }\n    },\n    {\n      \"column\": \"report\",\n      \"properties\": {\n        \"dtype\": \"string\",\n        \"num_unique_values\": 1631,\n        \"samples\": [\n          \"CC:, Transient visual field loss.,HX: ,This 58 y/o RHF had a 2 yr h/o increasing gait difficulty which she attributed to generalized weakness and occasional visual obscurations. She was evaluated by a local physician several days prior to this presentation (1/7/91), for clumsiness of her right hand and falling. HCT and MRI brain revealed bilateral posterior clinoid masses.,MEDS:, Colace, Quinidine, Synthroid, Lasix, Lanoxin, KCL, Elavil, Tenormin.,PMH: ,1) Obesity.  2) VBG, 1990.  3) A-Fib. 4) HTN.  5) Hypothyroidism.  6) Hypercholesterolemia. 7) Briquet's syndrome: h/o of hysterical paralysis. 8) CLL, dx 1989; in 1992 presented with left neck lymphadenopathy and received 5 cycles of chlorambucil/prednisone chemotherapy; 10/95 parotid gland biopsy was consistent with CLL and she received 5 more cycles of chlorambucil/prednisone; 1/10/96, she received 3000cGy to right parotid mass. 9) SNHL,FHX:, Father died, MI age 61.,SHX:, Denied Tobacco/ETOH/illicit drug use.,EXAM:, Vitals were unremarkable.,The neurologic exam was unremarkable except for obesity and mild decreased PP about the right upper and lower face, diffusely about the left upper and lower face, per neurosurgery notes. The neuro-ophthalmologic exam was unremarkable, per Neuro-ophthalmology.,COURSE:, She underwent Cerebral Angiography on 1/8/91. This revealed a 15x17x20mm LICA paraclinoid/ophthalmic artery aneurysm and a 5x7mm RICA paraclinoid/ophthalmic artery aneurysm. On 1/16/91 she underwent a left frontotemporal craniotomy and exploration of the left aneurysm. The aneurysm neck went into the cavernous sinus and was unclippable so it was wrapped. She has complained of headaches since.\",\n          \"EXAM: , Digital screening mammogram.,HISTORY:,  51-year-old female presents for screening mammography.  Patient denies personal history of breast cancer.  Breast cancer was reported in her maternal aunt.,TECHNIQUE:,  Craniocaudal and mediolateral oblique projections of bilateral breasts were obtained on mm/dd/yy.  Comparison is made with the previous performed on mm/dd/yy. iCAD Second Look proprietary software was utilized.,FINDINGS:  ,The breasts demonstrate a mixture of adipose and fibroglandular elements.  Composition appears similar.  Multiple tiny punctate benign-appearing calcifications are visualized bilaterally.  No dominant mass, areas of architecture distortion, or malignant-type calcifications are seen.  Skin overlying both breasts is unremarkable.,IMPRESSION: , Stable and benign mammographic findings.  Continued yearly mammographic screening is recommended.,BIRADS Classification 2 - Benign,MAMMOGRAPHY INFORMATION:,1.  A certain percentage of cancers, probably 10% to 15%, will not be identified by mammography.,2.  Lack of radiographic evidence of malignancy should not delay a biopsy if a clinically suspicious mass is present.,3.  These images were obtained with FDA-approved digital mammography equipment, and iCAD SecondLook Software Version 7.2 was utilized.\",\n          \"REASON FOR CONSULTATION: , Pneumatosis coli in the cecum.,HISTORY OF PRESENT ILLNESS:  ,The patient is an 87-year-old gentleman who was admitted on 10/27/07 with weakness and tiredness with aspiration pneumonia.  The patient is very difficult to obtain information from; however, he appears to be having frequent nausea and vomiting with an aspiration pneumonia and abdominal discomfort.  In addition, this hospitalization, he has undergone an upper endoscopy, which found a small ulcer after dropping his hematocrit and becoming anemic.  He had a CT scan on Friday, 11/02/07, which apparently showed pneumatosis and his cecum worrisome for ischemic colitis as well as bilateral hydronephrosis and multiple liver lesions, which could be metastatic disease versus cysts.  In discussions with the patient, he had multiple bowel movements yesterday and is currently passing flatus and has epigastric pain.,PAST MEDICAL HISTORY:  ,Obtained from the medical chart.  Chronic obstructive pulmonary disease, history of pneumonia, and aspiration pneumonia, osteoporosis, alcoholism, microcytic anemia.,MEDICATIONS: , Per his current medical chart.,ALLERGIES: , NO KNOWN DRUG ALLERGIES.,SOCIAL HISTORY: , The patient had a long history of smoking but quit many years ago.  He does have chronic alcohol use.,PHYSICAL EXAMINATION:,GENERAL:  A very thin white male who is dyspneic and having difficulty breathing at the moment.,VITAL SIGNS:  Afebrile.  Heart rate in the 100s to 120s at times with atrial fibrillation.  Respiratory rate is 17-20.  Blood pressure 130s-150s/60s-70s.,NECK:  Soft and supple, full range of motion.,HEART:  Regular.,ABDOMEN:  Distended with tenderness mainly in the upper abdomen but very difficult to localize due to his difficulty providing information.  He does appear to have tenderness but does not have rebound and does not have peritoneal signs.,DIAGNOSTICS: , A CT scan done on 11/02/07 shows pneumatosis in the cecum with an enlarged cecum filled with stool and air fluid levels with chronically dilated small bowel.,ASSESSMENT: , Possible ischemic cecum with possible metastatic disease, bilateral hydronephrosis on atrial fibrillation, aspiration pneumonia, chronic alcohol abuse, acute renal failure, COPD, anemia with gastric ulcer.,PLAN: , The patient appears to have pneumatosis from a CT scan 2 days ago.  Nothing was done about it at that time as the patient appeared to not be symptomatic, but he continues to have nausea and vomiting with abdominal pain, but the fact that pneumatosis was found 2 days ago and the patient has survived this long indicates this may be a benign process at the moment, and I would recommend getting a repeat CT scan to assess it further to see if there is worsening of pneumatosis versus resolution to further evaluate the liver lesions and make decisions regarding planning at that time.  The patient has frequent desaturations secondary to his aspiration pneumonia, and any surgical procedure or any surgical intervention would certainly require intubation, which would then necessitate long-term ventilator care as he is not someone who would be able to come off of a ventilator very well in his current state.  So we will look at the CT scan and make decisions based on the findings as far as that is concerned.\"\n        ],\n        \"semantic_type\": \"\",\n        \"description\": \"\"\n      }\n    }\n  ]\n}"
            }
          },
          "metadata": {},
          "execution_count": 12
        }
      ]
    },
    {
      "cell_type": "code",
      "source": [
        "medical_reports.info()"
      ],
      "metadata": {
        "colab": {
          "base_uri": "https://localhost:8080/"
        },
        "id": "y3BQRCDBrg8I",
        "outputId": "a11cfbe0-13dc-4a3a-f317-21b81745312e"
      },
      "execution_count": 13,
      "outputs": [
        {
          "output_type": "stream",
          "name": "stdout",
          "text": [
            "<class 'pandas.core.frame.DataFrame'>\n",
            "RangeIndex: 2179 entries, 0 to 2178\n",
            "Data columns (total 2 columns):\n",
            " #   Column             Non-Null Count  Dtype \n",
            "---  ------             --------------  ----- \n",
            " 0   medical_specialty  2179 non-null   object\n",
            " 1   report             2179 non-null   object\n",
            "dtypes: object(2)\n",
            "memory usage: 34.2+ KB\n"
          ]
        }
      ]
    },
    {
      "cell_type": "markdown",
      "source": [
        "### Data Preprocessing\n",
        "\n",
        "*   Droping rows with missing values\n",
        "*   Uniform sampling to ensure the number of samples from each category is same across train, validation and test set\n",
        "\n",
        "\n"
      ],
      "metadata": {
        "id": "Zwe_zQiDK2b_"
      }
    },
    {
      "cell_type": "code",
      "source": [
        "# Drop the missing rows\n",
        "# Drop the duplicate rows\n",
        "# Drop the columns\n",
        "medical_reports = medical_reports.dropna(subset=['report'])"
      ],
      "metadata": {
        "id": "J5Wr-2Xqrqoh"
      },
      "execution_count": 14,
      "outputs": []
    },
    {
      "cell_type": "code",
      "source": [
        "medical_reports.groupby('medical_specialty').count()"
      ],
      "metadata": {
        "colab": {
          "base_uri": "https://localhost:8080/",
          "height": 238
        },
        "id": "eYAjwMOZsLlz",
        "outputId": "4711869f-fd1c-4aef-cf7a-1860df87ebc4"
      },
      "execution_count": 15,
      "outputs": [
        {
          "output_type": "execute_result",
          "data": {
            "text/plain": [
              "                            report\n",
              "medical_specialty                 \n",
              "Cardiovascular / Pulmonary     371\n",
              "Gastroenterology               224\n",
              "Neurology                      223\n",
              "Radiology                      273\n",
              "Surgery                       1088"
            ],
            "text/html": [
              "\n",
              "  <div id=\"df-b7612d0c-ede7-4c66-9536-62d6008fcecd\" class=\"colab-df-container\">\n",
              "    <div>\n",
              "<style scoped>\n",
              "    .dataframe tbody tr th:only-of-type {\n",
              "        vertical-align: middle;\n",
              "    }\n",
              "\n",
              "    .dataframe tbody tr th {\n",
              "        vertical-align: top;\n",
              "    }\n",
              "\n",
              "    .dataframe thead th {\n",
              "        text-align: right;\n",
              "    }\n",
              "</style>\n",
              "<table border=\"1\" class=\"dataframe\">\n",
              "  <thead>\n",
              "    <tr style=\"text-align: right;\">\n",
              "      <th></th>\n",
              "      <th>report</th>\n",
              "    </tr>\n",
              "    <tr>\n",
              "      <th>medical_specialty</th>\n",
              "      <th></th>\n",
              "    </tr>\n",
              "  </thead>\n",
              "  <tbody>\n",
              "    <tr>\n",
              "      <th>Cardiovascular / Pulmonary</th>\n",
              "      <td>371</td>\n",
              "    </tr>\n",
              "    <tr>\n",
              "      <th>Gastroenterology</th>\n",
              "      <td>224</td>\n",
              "    </tr>\n",
              "    <tr>\n",
              "      <th>Neurology</th>\n",
              "      <td>223</td>\n",
              "    </tr>\n",
              "    <tr>\n",
              "      <th>Radiology</th>\n",
              "      <td>273</td>\n",
              "    </tr>\n",
              "    <tr>\n",
              "      <th>Surgery</th>\n",
              "      <td>1088</td>\n",
              "    </tr>\n",
              "  </tbody>\n",
              "</table>\n",
              "</div>\n",
              "    <div class=\"colab-df-buttons\">\n",
              "\n",
              "  <div class=\"colab-df-container\">\n",
              "    <button class=\"colab-df-convert\" onclick=\"convertToInteractive('df-b7612d0c-ede7-4c66-9536-62d6008fcecd')\"\n",
              "            title=\"Convert this dataframe to an interactive table.\"\n",
              "            style=\"display:none;\">\n",
              "\n",
              "  <svg xmlns=\"http://www.w3.org/2000/svg\" height=\"24px\" viewBox=\"0 -960 960 960\">\n",
              "    <path d=\"M120-120v-720h720v720H120Zm60-500h600v-160H180v160Zm220 220h160v-160H400v160Zm0 220h160v-160H400v160ZM180-400h160v-160H180v160Zm440 0h160v-160H620v160ZM180-180h160v-160H180v160Zm440 0h160v-160H620v160Z\"/>\n",
              "  </svg>\n",
              "    </button>\n",
              "\n",
              "  <style>\n",
              "    .colab-df-container {\n",
              "      display:flex;\n",
              "      gap: 12px;\n",
              "    }\n",
              "\n",
              "    .colab-df-convert {\n",
              "      background-color: #E8F0FE;\n",
              "      border: none;\n",
              "      border-radius: 50%;\n",
              "      cursor: pointer;\n",
              "      display: none;\n",
              "      fill: #1967D2;\n",
              "      height: 32px;\n",
              "      padding: 0 0 0 0;\n",
              "      width: 32px;\n",
              "    }\n",
              "\n",
              "    .colab-df-convert:hover {\n",
              "      background-color: #E2EBFA;\n",
              "      box-shadow: 0px 1px 2px rgba(60, 64, 67, 0.3), 0px 1px 3px 1px rgba(60, 64, 67, 0.15);\n",
              "      fill: #174EA6;\n",
              "    }\n",
              "\n",
              "    .colab-df-buttons div {\n",
              "      margin-bottom: 4px;\n",
              "    }\n",
              "\n",
              "    [theme=dark] .colab-df-convert {\n",
              "      background-color: #3B4455;\n",
              "      fill: #D2E3FC;\n",
              "    }\n",
              "\n",
              "    [theme=dark] .colab-df-convert:hover {\n",
              "      background-color: #434B5C;\n",
              "      box-shadow: 0px 1px 3px 1px rgba(0, 0, 0, 0.15);\n",
              "      filter: drop-shadow(0px 1px 2px rgba(0, 0, 0, 0.3));\n",
              "      fill: #FFFFFF;\n",
              "    }\n",
              "  </style>\n",
              "\n",
              "    <script>\n",
              "      const buttonEl =\n",
              "        document.querySelector('#df-b7612d0c-ede7-4c66-9536-62d6008fcecd button.colab-df-convert');\n",
              "      buttonEl.style.display =\n",
              "        google.colab.kernel.accessAllowed ? 'block' : 'none';\n",
              "\n",
              "      async function convertToInteractive(key) {\n",
              "        const element = document.querySelector('#df-b7612d0c-ede7-4c66-9536-62d6008fcecd');\n",
              "        const dataTable =\n",
              "          await google.colab.kernel.invokeFunction('convertToInteractive',\n",
              "                                                    [key], {});\n",
              "        if (!dataTable) return;\n",
              "\n",
              "        const docLinkHtml = 'Like what you see? Visit the ' +\n",
              "          '<a target=\"_blank\" href=https://colab.research.google.com/notebooks/data_table.ipynb>data table notebook</a>'\n",
              "          + ' to learn more about interactive tables.';\n",
              "        element.innerHTML = '';\n",
              "        dataTable['output_type'] = 'display_data';\n",
              "        await google.colab.output.renderOutput(dataTable, element);\n",
              "        const docLink = document.createElement('div');\n",
              "        docLink.innerHTML = docLinkHtml;\n",
              "        element.appendChild(docLink);\n",
              "      }\n",
              "    </script>\n",
              "  </div>\n",
              "\n",
              "\n",
              "<div id=\"df-9e864b9d-3f0a-4381-a183-7102b6abc83a\">\n",
              "  <button class=\"colab-df-quickchart\" onclick=\"quickchart('df-9e864b9d-3f0a-4381-a183-7102b6abc83a')\"\n",
              "            title=\"Suggest charts\"\n",
              "            style=\"display:none;\">\n",
              "\n",
              "<svg xmlns=\"http://www.w3.org/2000/svg\" height=\"24px\"viewBox=\"0 0 24 24\"\n",
              "     width=\"24px\">\n",
              "    <g>\n",
              "        <path d=\"M19 3H5c-1.1 0-2 .9-2 2v14c0 1.1.9 2 2 2h14c1.1 0 2-.9 2-2V5c0-1.1-.9-2-2-2zM9 17H7v-7h2v7zm4 0h-2V7h2v10zm4 0h-2v-4h2v4z\"/>\n",
              "    </g>\n",
              "</svg>\n",
              "  </button>\n",
              "\n",
              "<style>\n",
              "  .colab-df-quickchart {\n",
              "      --bg-color: #E8F0FE;\n",
              "      --fill-color: #1967D2;\n",
              "      --hover-bg-color: #E2EBFA;\n",
              "      --hover-fill-color: #174EA6;\n",
              "      --disabled-fill-color: #AAA;\n",
              "      --disabled-bg-color: #DDD;\n",
              "  }\n",
              "\n",
              "  [theme=dark] .colab-df-quickchart {\n",
              "      --bg-color: #3B4455;\n",
              "      --fill-color: #D2E3FC;\n",
              "      --hover-bg-color: #434B5C;\n",
              "      --hover-fill-color: #FFFFFF;\n",
              "      --disabled-bg-color: #3B4455;\n",
              "      --disabled-fill-color: #666;\n",
              "  }\n",
              "\n",
              "  .colab-df-quickchart {\n",
              "    background-color: var(--bg-color);\n",
              "    border: none;\n",
              "    border-radius: 50%;\n",
              "    cursor: pointer;\n",
              "    display: none;\n",
              "    fill: var(--fill-color);\n",
              "    height: 32px;\n",
              "    padding: 0;\n",
              "    width: 32px;\n",
              "  }\n",
              "\n",
              "  .colab-df-quickchart:hover {\n",
              "    background-color: var(--hover-bg-color);\n",
              "    box-shadow: 0 1px 2px rgba(60, 64, 67, 0.3), 0 1px 3px 1px rgba(60, 64, 67, 0.15);\n",
              "    fill: var(--button-hover-fill-color);\n",
              "  }\n",
              "\n",
              "  .colab-df-quickchart-complete:disabled,\n",
              "  .colab-df-quickchart-complete:disabled:hover {\n",
              "    background-color: var(--disabled-bg-color);\n",
              "    fill: var(--disabled-fill-color);\n",
              "    box-shadow: none;\n",
              "  }\n",
              "\n",
              "  .colab-df-spinner {\n",
              "    border: 2px solid var(--fill-color);\n",
              "    border-color: transparent;\n",
              "    border-bottom-color: var(--fill-color);\n",
              "    animation:\n",
              "      spin 1s steps(1) infinite;\n",
              "  }\n",
              "\n",
              "  @keyframes spin {\n",
              "    0% {\n",
              "      border-color: transparent;\n",
              "      border-bottom-color: var(--fill-color);\n",
              "      border-left-color: var(--fill-color);\n",
              "    }\n",
              "    20% {\n",
              "      border-color: transparent;\n",
              "      border-left-color: var(--fill-color);\n",
              "      border-top-color: var(--fill-color);\n",
              "    }\n",
              "    30% {\n",
              "      border-color: transparent;\n",
              "      border-left-color: var(--fill-color);\n",
              "      border-top-color: var(--fill-color);\n",
              "      border-right-color: var(--fill-color);\n",
              "    }\n",
              "    40% {\n",
              "      border-color: transparent;\n",
              "      border-right-color: var(--fill-color);\n",
              "      border-top-color: var(--fill-color);\n",
              "    }\n",
              "    60% {\n",
              "      border-color: transparent;\n",
              "      border-right-color: var(--fill-color);\n",
              "    }\n",
              "    80% {\n",
              "      border-color: transparent;\n",
              "      border-right-color: var(--fill-color);\n",
              "      border-bottom-color: var(--fill-color);\n",
              "    }\n",
              "    90% {\n",
              "      border-color: transparent;\n",
              "      border-bottom-color: var(--fill-color);\n",
              "    }\n",
              "  }\n",
              "</style>\n",
              "\n",
              "  <script>\n",
              "    async function quickchart(key) {\n",
              "      const quickchartButtonEl =\n",
              "        document.querySelector('#' + key + ' button');\n",
              "      quickchartButtonEl.disabled = true;  // To prevent multiple clicks.\n",
              "      quickchartButtonEl.classList.add('colab-df-spinner');\n",
              "      try {\n",
              "        const charts = await google.colab.kernel.invokeFunction(\n",
              "            'suggestCharts', [key], {});\n",
              "      } catch (error) {\n",
              "        console.error('Error during call to suggestCharts:', error);\n",
              "      }\n",
              "      quickchartButtonEl.classList.remove('colab-df-spinner');\n",
              "      quickchartButtonEl.classList.add('colab-df-quickchart-complete');\n",
              "    }\n",
              "    (() => {\n",
              "      let quickchartButtonEl =\n",
              "        document.querySelector('#df-9e864b9d-3f0a-4381-a183-7102b6abc83a button');\n",
              "      quickchartButtonEl.style.display =\n",
              "        google.colab.kernel.accessAllowed ? 'block' : 'none';\n",
              "    })();\n",
              "  </script>\n",
              "</div>\n",
              "\n",
              "    </div>\n",
              "  </div>\n"
            ],
            "application/vnd.google.colaboratory.intrinsic+json": {
              "type": "dataframe",
              "summary": "{\n  \"name\": \"medical_reports\",\n  \"rows\": 5,\n  \"fields\": [\n    {\n      \"column\": \"medical_specialty\",\n      \"properties\": {\n        \"dtype\": \"string\",\n        \"num_unique_values\": 5,\n        \"samples\": [\n          \"Gastroenterology\",\n          \"Surgery\",\n          \"Neurology\"\n        ],\n        \"semantic_type\": \"\",\n        \"description\": \"\"\n      }\n    },\n    {\n      \"column\": \"report\",\n      \"properties\": {\n        \"dtype\": \"number\",\n        \"std\": 369,\n        \"min\": 223,\n        \"max\": 1088,\n        \"num_unique_values\": 5,\n        \"samples\": [\n          224,\n          1088,\n          223\n        ],\n        \"semantic_type\": \"\",\n        \"description\": \"\"\n      }\n    }\n  ]\n}"
            }
          },
          "metadata": {},
          "execution_count": 15
        }
      ]
    },
    {
      "cell_type": "code",
      "source": [
        "# Uniform sampling from all categories\n",
        "# Train, Validation and Test set\n",
        "\n",
        "grouped_data = medical_reports.groupby('medical_specialty').sample(110, random_state=42)"
      ],
      "metadata": {
        "id": "7bCa_EurHEJP"
      },
      "execution_count": 16,
      "outputs": []
    },
    {
      "cell_type": "code",
      "source": [
        "grouped_data['medical_specialty'].value_counts()"
      ],
      "metadata": {
        "colab": {
          "base_uri": "https://localhost:8080/"
        },
        "id": "WdaloNSeH6HW",
        "outputId": "61d93aa0-3b23-4f57-f684-55a80d81c8ad"
      },
      "execution_count": 17,
      "outputs": [
        {
          "output_type": "execute_result",
          "data": {
            "text/plain": [
              "medical_specialty\n",
              "Cardiovascular / Pulmonary    110\n",
              "Gastroenterology              110\n",
              "Neurology                     110\n",
              "Radiology                     110\n",
              "Surgery                       110\n",
              "Name: count, dtype: int64"
            ]
          },
          "metadata": {},
          "execution_count": 17
        }
      ]
    },
    {
      "cell_type": "code",
      "source": [
        "val_test_data = grouped_data.groupby('medical_specialty').sample(10, random_state=42)"
      ],
      "metadata": {
        "id": "_T4aXcbGJUJW"
      },
      "execution_count": 18,
      "outputs": []
    },
    {
      "cell_type": "code",
      "source": [
        "val = val_test_data.groupby('medical_specialty').head(5)\n",
        "test = val_test_data.groupby('medical_specialty').tail(5)"
      ],
      "metadata": {
        "id": "QM4rw2dpJOf-"
      },
      "execution_count": 19,
      "outputs": []
    },
    {
      "cell_type": "code",
      "source": [
        "train = grouped_data.drop(val.index).drop(test.index)"
      ],
      "metadata": {
        "id": "-NXdV-D2Joc-"
      },
      "execution_count": 20,
      "outputs": []
    },
    {
      "cell_type": "markdown",
      "source": [
        "### Data Processing\n",
        "\n",
        "\n",
        "*   Computing the statastics of the split data to prevent unwanted biases that could potentially arise from the data splitting\n",
        "\n"
      ],
      "metadata": {
        "id": "50IDNKNZLTwu"
      }
    },
    {
      "cell_type": "code",
      "source": [
        "!pip install tiktoken"
      ],
      "metadata": {
        "colab": {
          "base_uri": "https://localhost:8080/"
        },
        "id": "T93gy3hTJtZV",
        "outputId": "cae985b7-5832-4f41-cca9-b64bfa33cd3e"
      },
      "execution_count": 21,
      "outputs": [
        {
          "output_type": "stream",
          "name": "stdout",
          "text": [
            "Collecting tiktoken\n",
            "  Downloading tiktoken-0.7.0-cp310-cp310-manylinux_2_17_x86_64.manylinux2014_x86_64.whl (1.1 MB)\n",
            "\u001b[2K     \u001b[90m━━━━━━━━━━━━━━━━━━━━━━━━━━━━━━━━━━━━━━━━\u001b[0m \u001b[32m1.1/1.1 MB\u001b[0m \u001b[31m8.4 MB/s\u001b[0m eta \u001b[36m0:00:00\u001b[0m\n",
            "\u001b[?25hRequirement already satisfied: regex>=2022.1.18 in /usr/local/lib/python3.10/dist-packages (from tiktoken) (2024.5.15)\n",
            "Requirement already satisfied: requests>=2.26.0 in /usr/local/lib/python3.10/dist-packages (from tiktoken) (2.31.0)\n",
            "Requirement already satisfied: charset-normalizer<4,>=2 in /usr/local/lib/python3.10/dist-packages (from requests>=2.26.0->tiktoken) (3.3.2)\n",
            "Requirement already satisfied: idna<4,>=2.5 in /usr/local/lib/python3.10/dist-packages (from requests>=2.26.0->tiktoken) (3.7)\n",
            "Requirement already satisfied: urllib3<3,>=1.21.1 in /usr/local/lib/python3.10/dist-packages (from requests>=2.26.0->tiktoken) (2.0.7)\n",
            "Requirement already satisfied: certifi>=2017.4.17 in /usr/local/lib/python3.10/dist-packages (from requests>=2.26.0->tiktoken) (2024.6.2)\n",
            "Installing collected packages: tiktoken\n",
            "Successfully installed tiktoken-0.7.0\n"
          ]
        }
      ]
    },
    {
      "cell_type": "code",
      "source": [
        "import tiktoken"
      ],
      "metadata": {
        "id": "0mIesBunMPJA"
      },
      "execution_count": 22,
      "outputs": []
    },
    {
      "cell_type": "code",
      "source": [
        "def num_tokens_from_messages(string: str, model: str = \"gpt-3.5-turbo\") -> int:\n",
        "    \"\"\"Returns the number of tokens in a text string.\"\"\"\n",
        "    encoding = tiktoken.encoding_for_model(model)\n",
        "    num_tokens = len(encoding.encode(string))\n",
        "    return num_tokens"
      ],
      "metadata": {
        "id": "V9oQ0z-NMZrr"
      },
      "execution_count": 23,
      "outputs": []
    },
    {
      "cell_type": "code",
      "source": [
        "num_tokens_from_messages(\"hello how are you\")"
      ],
      "metadata": {
        "colab": {
          "base_uri": "https://localhost:8080/"
        },
        "id": "JosyLcYyMojJ",
        "outputId": "9d4b6a47-103f-433b-ca12-9385f0ce247d"
      },
      "execution_count": 24,
      "outputs": [
        {
          "output_type": "execute_result",
          "data": {
            "text/plain": [
              "4"
            ]
          },
          "metadata": {},
          "execution_count": 24
        }
      ]
    },
    {
      "cell_type": "code",
      "source": [
        "# Compute the length of the tokens for the report\n",
        "report_length = train[\"report\"].apply(num_tokens_from_messages)"
      ],
      "metadata": {
        "id": "I2jD_whGMvCy"
      },
      "execution_count": 25,
      "outputs": []
    },
    {
      "cell_type": "code",
      "source": [
        "report_length.describe()"
      ],
      "metadata": {
        "colab": {
          "base_uri": "https://localhost:8080/"
        },
        "id": "YgCcd2y6Nho4",
        "outputId": "69f227af-6765-4a8b-e21d-5bef6c656378"
      },
      "execution_count": 26,
      "outputs": [
        {
          "output_type": "execute_result",
          "data": {
            "text/plain": [
              "count     500.000000\n",
              "mean      674.788000\n",
              "std       427.809075\n",
              "min        14.000000\n",
              "25%       358.000000\n",
              "50%       593.500000\n",
              "75%       904.000000\n",
              "max      3701.000000\n",
              "Name: report, dtype: float64"
            ]
          },
          "metadata": {},
          "execution_count": 26
        }
      ]
    },
    {
      "cell_type": "code",
      "source": [
        "total_number_of_tokens = sum(report_length)"
      ],
      "metadata": {
        "id": "TYcE3eeHO4B5"
      },
      "execution_count": 27,
      "outputs": []
    },
    {
      "cell_type": "code",
      "source": [
        "# Calculating the estimated pricing for fine-tuning(training) the model\n",
        "price_model = 1.5\n",
        "price_per_epoch = price_model * total_number_of_tokens / 1000000\n",
        "price_per_epoch"
      ],
      "metadata": {
        "colab": {
          "base_uri": "https://localhost:8080/"
        },
        "id": "mdEpNPEzNl1P",
        "outputId": "4af1d18b-6b4b-4661-acc9-01109c32587a"
      },
      "execution_count": 28,
      "outputs": [
        {
          "output_type": "execute_result",
          "data": {
            "text/plain": [
              "0.506091"
            ]
          },
          "metadata": {},
          "execution_count": 28
        }
      ]
    },
    {
      "cell_type": "markdown",
      "source": [
        "### Data Formatting"
      ],
      "metadata": {
        "id": "QTEURlpBPfqn"
      }
    },
    {
      "cell_type": "code",
      "source": [
        "train[\"medical_specialty\"].unique()"
      ],
      "metadata": {
        "colab": {
          "base_uri": "https://localhost:8080/"
        },
        "id": "aA-sfvhdPhew",
        "outputId": "270456a9-4a26-4dff-8420-f862190d0ebb"
      },
      "execution_count": 29,
      "outputs": [
        {
          "output_type": "execute_result",
          "data": {
            "text/plain": [
              "array(['Cardiovascular / Pulmonary', 'Gastroenterology', 'Neurology',\n",
              "       'Radiology', 'Surgery'], dtype=object)"
            ]
          },
          "metadata": {},
          "execution_count": 29
        }
      ]
    },
    {
      "cell_type": "code",
      "source": [
        "# System Prompt\n",
        "# User --> report\n",
        "# Assistant --> medical_speciality"
      ],
      "metadata": {
        "id": "yyo6SW7CQkPo"
      },
      "execution_count": 30,
      "outputs": []
    },
    {
      "cell_type": "code",
      "source": [
        "system_prompt = \"Given the medical description report, classify it into one of the following categories: \"+\"\\n\"+\"Cardiovascular / Pulmonary, Gastroenterology, Neurology, Radiology, Surgery\""
      ],
      "metadata": {
        "id": "PSKgqQ_NQvMR"
      },
      "execution_count": 31,
      "outputs": []
    },
    {
      "cell_type": "code",
      "source": [
        "sample_prompt = {\"messages\": [{'role':'system','content':system_prompt},\n",
        "                              {'role':'user','content':train['report'].iloc[0]},\n",
        "                              {'role':'assistant','content':train['medical_specialty'].iloc[0]}]}"
      ],
      "metadata": {
        "id": "XVg5XEYS0R9e"
      },
      "execution_count": 33,
      "outputs": []
    },
    {
      "cell_type": "code",
      "source": [
        "sample_prompt"
      ],
      "metadata": {
        "colab": {
          "base_uri": "https://localhost:8080/"
        },
        "id": "Zu5FBArd3YhV",
        "outputId": "bb62b96e-d18c-43b4-b7ad-f182a8c23575"
      },
      "execution_count": 36,
      "outputs": [
        {
          "output_type": "execute_result",
          "data": {
            "text/plain": [
              "{'messages': [{'role': 'system',\n",
              "   'content': 'Given the medical description report, classify it into one of the following categories: \\nCardiovascular / Pulmonary, Gastroenterology, Neurology, Radiology, Surgery'},\n",
              "  {'role': 'user',\n",
              "   'content': \"PREOPERATIVE DIAGNOSES:,1.  Lumbar osteomyelitis.,2.  Need for durable central intravenous access.,POSTOPERATIVE DIAGNOSES:,1.  Lumbar osteomyelitis.,2.  Need for durable central intravenous access.,ANESTHESIA:,  General.,PROCEDURE:,  Placement of left subclavian 4-French Broviac catheter.,INDICATIONS:  ,The patient is a toddler admitted with a limp and back pain, who was eventually found on bone scan and septic workup to have probable osteomyelitis of the lumbar spine at disk areas.  The patient needs prolonged IV antibiotic therapy, but attempt at a PICC line failed.  She has exhausted most of her easy peripheral IV access routes and referral was made to the Pediatric Surgery Service for Broviac placement.  I met with the patient's mom.  With the help of a Spanish interpreter, I explained the technique for Broviac placement.  We discussed the surgical risks and alternatives, most of which have been exhausted.  All their questions have been answered, and the patient is fit for operation today.,DESCRIPTION OF OPERATION:  ,The patient came to the operating room and had an uneventful induction of general anesthesia.  We conducted a surgical time-out to reiterate all of the patient's important identifying information and to confirm that we were here to place the Broviac catheter.  Preparation and draping of her skin was performed with chlorhexidine based prep solution and then an infraclavicular approach to left subclavian vein was performed.  A flexible guidewire was inserted into the central location and then a 4-French Broviac catheter was tunneled through the subcutaneous tissues and exiting on the right anterolateral chest wall well below and lateral to the breast and pectoralis major margins.  The catheter was brought to the subclavian insertion site and trimmed so that the tip would lie at the junction of the superior vena cava and right atrium based on fluoroscopic guidelines.  The peel-away sheath was passed over the guidewire and then the 4-French catheter was deployed through the peel-away sheath.  There was easy blood return and fluoroscopic imaging showed initially the catheter had transited across the mediastinum up the opposite subclavian vein, then it was withdrawn and easily replaced in the superior vena cava.  The catheter insertion site was closed with one buried 5-0 Monocryl stitch and the same 5-0 Monocryl was used to tether the catheter at the exit site until fibrous ingrowth of the attached cuff has occurred.  Heparinized saline solution was used to flush the line.  A sterile occlusive dressing was applied, and the line was prepared for immediate use.  The patient was transported to the recovery room in good condition.  There were no intraoperative complications, and her blood loss was between 5 and 10 mL during the line placement portion of the procedure.\"},\n",
              "  {'role': 'assistant', 'content': 'Cardiovascular / Pulmonary'}]}"
            ]
          },
          "metadata": {},
          "execution_count": 36
        }
      ]
    },
    {
      "cell_type": "code",
      "source": [
        "def df_to_format(df):\n",
        "  formmatted_data = []\n",
        "\n",
        "  for index, row in df.iterrows():\n",
        "    prompt = {\"messages\": [{'role':'system','content':system_prompt},\n",
        "                              {'role':'user','content':row['report']},\n",
        "                              {'role':'assistant','content':row['medical_specialty']}]}\n",
        "    formmatted_data.append(prompt)\n",
        "\n",
        "  return formmatted_data"
      ],
      "metadata": {
        "id": "-rVvhZpI3cEt"
      },
      "execution_count": 37,
      "outputs": []
    },
    {
      "cell_type": "code",
      "source": [
        "data = df_to_format(train)"
      ],
      "metadata": {
        "id": "ToUg9nN1AUNP"
      },
      "execution_count": 38,
      "outputs": []
    },
    {
      "cell_type": "code",
      "source": [
        "data[10]"
      ],
      "metadata": {
        "colab": {
          "base_uri": "https://localhost:8080/"
        },
        "id": "Dk9QAZD9AY6E",
        "outputId": "ca09956d-7f5f-42e1-a972-5b0f9e1792a8"
      },
      "execution_count": 39,
      "outputs": [
        {
          "output_type": "execute_result",
          "data": {
            "text/plain": [
              "{'messages': [{'role': 'system',\n",
              "   'content': 'Given the medical description report, classify it into one of the following categories: \\nCardiovascular / Pulmonary, Gastroenterology, Neurology, Radiology, Surgery'},\n",
              "  {'role': 'user',\n",
              "   'content': \"OPERATION: , Subxiphoid pericardial window.,ANESTHESIA: , General endotracheal anesthesia.,OPERATIVE PROCEDURE IN DETAIL:  ,After obtaining informed consent from the patient's family, including a thorough explanation of the risks and benefits of the aforementioned procedure, patient was taken to the operating room and general endotracheal anesthesia was administered.  Next, the neck and chest were prepped and draped in the standard surgical fashion.  A #10-blade scalpel was used to make an incision in the area of the xiphoid process.  Dissection was carried down to the level of the fascia using Bovie electrocautery.  The xiphoid process was elevated, and the diaphragmatic attachments to it were dissected free.  Next the pericardium was identified.,The pericardium was opened with Bovie electrocautery.  Upon entering the pericardium, serous fluid was expressed.  In total, ** cc of fluid was drained.  A pericardial biopsy was obtained.  The fluid was sent off for cytologic examination as well as for culture.  A #24 Blake chest drain was brought out through the skin and placed in the posterior pericardium.  The fascia was closed with #1 Vicryl followed by 2-0 Vicryl followed by 4-0 PDS in a running subcuticular fashion.  Sterile dressing was applied.\"},\n",
              "  {'role': 'assistant', 'content': 'Cardiovascular / Pulmonary'}]}"
            ]
          },
          "metadata": {},
          "execution_count": 39
        }
      ]
    },
    {
      "cell_type": "code",
      "source": [
        "import json"
      ],
      "metadata": {
        "id": "_-6gl7tBAanV"
      },
      "execution_count": 40,
      "outputs": []
    },
    {
      "cell_type": "code",
      "source": [
        "with open('fine_tuning_data_train.jsonl', 'w') as f:\n",
        "  for item in data:\n",
        "    json.dump(item, f)\n",
        "    f.write('\\n')"
      ],
      "metadata": {
        "id": "-DGARGw7AfjD"
      },
      "execution_count": 43,
      "outputs": []
    },
    {
      "cell_type": "code",
      "source": [
        "data_val = df_to_format(val)"
      ],
      "metadata": {
        "id": "d8pBbwHXBQFU"
      },
      "execution_count": 44,
      "outputs": []
    },
    {
      "cell_type": "code",
      "source": [
        "with open('fine_tuning_data_val.jsonl', 'w') as f:\n",
        "  for item in data_val:\n",
        "    json.dump(item, f)\n",
        "    f.write('\\n')"
      ],
      "metadata": {
        "id": "5ApBWZGAAk13"
      },
      "execution_count": 45,
      "outputs": []
    },
    {
      "cell_type": "code",
      "source": [],
      "metadata": {
        "id": "1P1LD6nCBUld"
      },
      "execution_count": null,
      "outputs": []
    },
    {
      "cell_type": "markdown",
      "source": [
        "### Training\n"
      ],
      "metadata": {
        "id": "_WHvk4ekBXuF"
      }
    },
    {
      "cell_type": "code",
      "source": [
        "client = OpenAI()"
      ],
      "metadata": {
        "id": "LQ8ZXn04BZ5u"
      },
      "execution_count": 46,
      "outputs": []
    },
    {
      "cell_type": "code",
      "source": [
        "file_upload_response = client.files.create(\n",
        "  file=open('fine_tuning_data_train.jsonl', 'rb'),\n",
        "  purpose='fine-tune')"
      ],
      "metadata": {
        "id": "7JoerTO4DyWc"
      },
      "execution_count": 47,
      "outputs": []
    },
    {
      "cell_type": "code",
      "source": [
        "file_upload_response"
      ],
      "metadata": {
        "colab": {
          "base_uri": "https://localhost:8080/"
        },
        "id": "Is2s9i5nD6HR",
        "outputId": "88f48953-ed13-4a72-fcfb-d217c70234c1"
      },
      "execution_count": 48,
      "outputs": [
        {
          "output_type": "execute_result",
          "data": {
            "text/plain": [
              "FileObject(id='file-uXodvg3S6U0LdrNVg5gipOlD', bytes=1547622, created_at=1717870502, filename='fine_tuning_data_train.jsonl', object='file', purpose='fine-tune', status='processed', status_details=None)"
            ]
          },
          "metadata": {},
          "execution_count": 48
        }
      ]
    },
    {
      "cell_type": "code",
      "source": [
        "file_upload_response_val = client.files.create(\n",
        "  file=open('fine_tuning_data_val.jsonl', 'rb'),\n",
        "  purpose='fine-tune')"
      ],
      "metadata": {
        "id": "L2JeMD3jD9Lw"
      },
      "execution_count": 49,
      "outputs": []
    },
    {
      "cell_type": "code",
      "source": [
        "file_upload_response_val"
      ],
      "metadata": {
        "colab": {
          "base_uri": "https://localhost:8080/"
        },
        "id": "5WgjTjbZEFDf",
        "outputId": "f2341219-9076-44f2-fbf2-d5c0d4f79dd9"
      },
      "execution_count": 50,
      "outputs": [
        {
          "output_type": "execute_result",
          "data": {
            "text/plain": [
              "FileObject(id='file-CxZSX81MSccDbKt4iuZUWg7E', bytes=101684, created_at=1717870548, filename='fine_tuning_data_val.jsonl', object='file', purpose='fine-tune', status='processed', status_details=None)"
            ]
          },
          "metadata": {},
          "execution_count": 50
        }
      ]
    },
    {
      "cell_type": "code",
      "source": [
        "fine_tuning_reponse = client.fine_tuning.jobs.create(\n",
        "  training_file=file_upload_response.id,\n",
        "  validation_file=file_upload_response_val.id,\n",
        "  model='gpt-3.5-turbo',\n",
        "  hyperparameters={\n",
        "      'n_epochs': 1\n",
        "  }\n",
        ")"
      ],
      "metadata": {
        "id": "3Nrdf6Q2EGmF"
      },
      "execution_count": 57,
      "outputs": []
    },
    {
      "cell_type": "code",
      "source": [
        "fine_tuning_reponse"
      ],
      "metadata": {
        "colab": {
          "base_uri": "https://localhost:8080/"
        },
        "id": "gaGss7NME93V",
        "outputId": "f5bac871-ba08-4109-e865-d285f65f7ea1"
      },
      "execution_count": 66,
      "outputs": [
        {
          "output_type": "execute_result",
          "data": {
            "text/plain": [
              "FineTuningJob(id='ftjob-MlXWu4lbqQcplwAE0Ae3xOtL', created_at=1717870907, error=Error(code=None, message=None, param=None), fine_tuned_model=None, finished_at=None, hyperparameters=Hyperparameters(n_epochs=1, batch_size='auto', learning_rate_multiplier='auto'), model='gpt-3.5-turbo-0125', object='fine_tuning.job', organization_id='org-JrMMAShV5VePDAsjEgWFFWmU', result_files=[], seed=516468368, status='validating_files', trained_tokens=None, training_file='file-uXodvg3S6U0LdrNVg5gipOlD', validation_file='file-CxZSX81MSccDbKt4iuZUWg7E', estimated_finish=None, integrations=[], user_provided_suffix=None)"
            ]
          },
          "metadata": {},
          "execution_count": 66
        }
      ]
    },
    {
      "cell_type": "code",
      "source": [
        "client.fine_tuning.jobs.list()"
      ],
      "metadata": {
        "colab": {
          "base_uri": "https://localhost:8080/"
        },
        "id": "FtQwTbkaFfTT",
        "outputId": "f0e9ad0a-cdc4-440c-8298-3be22a1f1692"
      },
      "execution_count": 62,
      "outputs": [
        {
          "output_type": "execute_result",
          "data": {
            "text/plain": [
              "SyncCursorPage[FineTuningJob](data=[FineTuningJob(id='ftjob-MlXWu4lbqQcplwAE0Ae3xOtL', created_at=1717870907, error=Error(code=None, message=None, param=None), fine_tuned_model=None, finished_at=None, hyperparameters=Hyperparameters(n_epochs=1, batch_size=1, learning_rate_multiplier=2), model='gpt-3.5-turbo-0125', object='fine_tuning.job', organization_id='org-JrMMAShV5VePDAsjEgWFFWmU', result_files=[], seed=516468368, status='running', trained_tokens=None, training_file='file-uXodvg3S6U0LdrNVg5gipOlD', validation_file='file-CxZSX81MSccDbKt4iuZUWg7E', estimated_finish=1717872011, integrations=[], user_provided_suffix=None)], object='list', has_more=False)"
            ]
          },
          "metadata": {},
          "execution_count": 62
        }
      ]
    },
    {
      "cell_type": "code",
      "source": [
        "train_event = client.fine_tuning.jobs.list_events(fine_tuning_reponse.id,\n",
        "                                                  limit = 500,\n",
        ")"
      ],
      "metadata": {
        "id": "_8t1DXhaFikr"
      },
      "execution_count": 67,
      "outputs": []
    },
    {
      "cell_type": "code",
      "source": [
        "train_event.data[2].data"
      ],
      "metadata": {
        "colab": {
          "base_uri": "https://localhost:8080/"
        },
        "id": "0b1VuYgEH0VD",
        "outputId": "8e65c0d6-96b3-449a-f6d4-4588e1b4be42"
      },
      "execution_count": 72,
      "outputs": [
        {
          "output_type": "execute_result",
          "data": {
            "text/plain": [
              "{'step': 301,\n",
              " 'train_loss': 6.35782896551973e-07,\n",
              " 'total_steps': 500,\n",
              " 'train_mean_token_accuracy': 1.0}"
            ]
          },
          "metadata": {},
          "execution_count": 72
        }
      ]
    },
    {
      "cell_type": "code",
      "source": [
        "train_loss = []\n",
        "val_loss = []\n",
        "for event in train_event.data:\n",
        " train_data = event.data\n",
        " if train_data and 'train_loss' in train_data:\n",
        "   train_loss.append(train_data['train_loss'])\n",
        " if train_data and 'validation_loss' in train_data:\n",
        "   val_loss.append(train_data['validation_loss'])"
      ],
      "metadata": {
        "id": "j5eqNw2AISnF"
      },
      "execution_count": 76,
      "outputs": []
    },
    {
      "cell_type": "code",
      "source": [
        "import matplotlib.pyplot as plt\n",
        "plt.plot(train_loss)\n",
        "plt.plot(val_loss)\n",
        "plt.show()\n"
      ],
      "metadata": {
        "colab": {
          "base_uri": "https://localhost:8080/",
          "height": 430
        },
        "id": "lrfrzeMWJAyj",
        "outputId": "e8608977-0430-481e-bab4-ffe6800e7852"
      },
      "execution_count": 77,
      "outputs": [
        {
          "output_type": "display_data",
          "data": {
            "text/plain": [
              "<Figure size 640x480 with 1 Axes>"
            ],
            "image/png": "[encoded data removed]"
          },
          "metadata": {}
        }
      ]
    },
    {
      "cell_type": "code",
      "source": [],
      "metadata": {
        "id": "B2Dg-yc4I_71"
      },
      "execution_count": null,
      "outputs": []
    },
    {
      "cell_type": "markdown",
      "source": [
        "### Testing the custom model"
      ],
      "metadata": {
        "id": "flrb94K-J6Ls"
      }
    },
    {
      "cell_type": "code",
      "source": [
        "completion = client.chat.completions.create(\n",
        "  model=\"ft:gpt-3.5-turbo-0125:tvpian::9XvGmgmH\",\n",
        "  messages=[\n",
        "    {\"role\": \"system\", \"content\": system_prompt},\n",
        "    {\"role\": \"user\", \"content\": test['report'].iloc[1]}\n",
        "  ]\n",
        ")\n"
      ],
      "metadata": {
        "id": "AU2WlamBKBBM"
      },
      "execution_count": 85,
      "outputs": []
    },
    {
      "cell_type": "code",
      "source": [
        "completion.choices[0].message.content"
      ],
      "metadata": {
        "colab": {
          "base_uri": "https://localhost:8080/",
          "height": 35
        },
        "id": "7gK_AnrlLTIl",
        "outputId": "78071f5f-4ee4-47fa-8a2b-c89aded8b468"
      },
      "execution_count": 86,
      "outputs": [
        {
          "output_type": "execute_result",
          "data": {
            "text/plain": [
              "'Cardiovascular / Pulmonary'"
            ],
            "application/vnd.google.colaboratory.intrinsic+json": {
              "type": "string"
            }
          },
          "metadata": {},
          "execution_count": 86
        }
      ]
    },
    {
      "cell_type": "code",
      "source": [
        "test['medical_specialty'].iloc[1]"
      ],
      "metadata": {
        "colab": {
          "base_uri": "https://localhost:8080/",
          "height": 35
        },
        "id": "vtABDQ-lLb_c",
        "outputId": "6f292113-54a9-4ade-913a-c17b3e969195"
      },
      "execution_count": 87,
      "outputs": [
        {
          "output_type": "execute_result",
          "data": {
            "text/plain": [
              "'Cardiovascular / Pulmonary'"
            ],
            "application/vnd.google.colaboratory.intrinsic+json": {
              "type": "string"
            }
          },
          "metadata": {},
          "execution_count": 87
        }
      ]
    },
    {
      "cell_type": "code",
      "source": [
        "def classify_report(report, model='ft:gpt-3.5-turbo-0125:tvpian::9XvGmgmH'):\n",
        "  completion = client.chat.completions.create(\n",
        "  model=model,\n",
        "  messages=[\n",
        "    {\"role\": \"system\", \"content\": system_prompt},\n",
        "    {\"role\": \"user\", \"content\": report}\n",
        "  ]\n",
        "  )\n",
        "  return completion.choices[0].message.content"
      ],
      "metadata": {
        "id": "mr_wqgSrLgpO"
      },
      "execution_count": 88,
      "outputs": []
    },
    {
      "cell_type": "code",
      "source": [
        "predicted_classes = []\n",
        "ground_truth = []\n",
        "for index, row in test.iterrows():\n",
        "  predicted_classes.append(classify_report(row['report'].strip()))\n",
        "  ground_truth.append(row['medical_specialty'].strip())"
      ],
      "metadata": {
        "id": "dFDdbPpdMKRa"
      },
      "execution_count": 92,
      "outputs": []
    },
    {
      "cell_type": "code",
      "source": [
        "predicted_classes, ground_truth"
      ],
      "metadata": {
        "colab": {
          "base_uri": "https://localhost:8080/"
        },
        "id": "fopjGp_JMXjG",
        "outputId": "be3aaade-8956-4762-8f41-b95396c0f8af"
      },
      "execution_count": 90,
      "outputs": [
        {
          "output_type": "execute_result",
          "data": {
            "text/plain": [
              "(['Cardiovascular / Pulmonary',\n",
              "  'Cardiovascular / Pulmonary',\n",
              "  'Cardiovascular / Pulmonary',\n",
              "  'Cardiovascular / Pulmonary',\n",
              "  'Surgery',\n",
              "  'Gastroenterology',\n",
              "  'Radiology',\n",
              "  'Gastroenterology',\n",
              "  'Gastroenterology',\n",
              "  'Gastroenterology',\n",
              "  'Neurology',\n",
              "  'Neurology',\n",
              "  'Neurology',\n",
              "  'Neurology',\n",
              "  'Neurology',\n",
              "  'Radiology',\n",
              "  'Gastroenterology',\n",
              "  'Neurology',\n",
              "  'Cardiovascular / Pulmonary',\n",
              "  'Neurology',\n",
              "  'Cardiovascular / Pulmonary',\n",
              "  'Cardiovascular / Pulmonary',\n",
              "  'Surgery',\n",
              "  'Surgery',\n",
              "  'Cardiovascular / Pulmonary'],\n",
              " ['Cardiovascular / Pulmonary',\n",
              "  'Cardiovascular / Pulmonary',\n",
              "  'Cardiovascular / Pulmonary',\n",
              "  'Cardiovascular / Pulmonary',\n",
              "  'Cardiovascular / Pulmonary',\n",
              "  'Gastroenterology',\n",
              "  'Gastroenterology',\n",
              "  'Gastroenterology',\n",
              "  'Gastroenterology',\n",
              "  'Gastroenterology',\n",
              "  'Neurology',\n",
              "  'Neurology',\n",
              "  'Neurology',\n",
              "  'Neurology',\n",
              "  'Neurology',\n",
              "  'Radiology',\n",
              "  'Radiology',\n",
              "  'Radiology',\n",
              "  'Radiology',\n",
              "  'Radiology',\n",
              "  'Surgery',\n",
              "  'Surgery',\n",
              "  'Surgery',\n",
              "  'Surgery',\n",
              "  'Surgery'])"
            ]
          },
          "metadata": {},
          "execution_count": 90
        }
      ]
    },
    {
      "cell_type": "code",
      "source": [
        "import numpy as np\n",
        "from sklearn.metrics import accuracy_score\n",
        "accuracy_score(predicted_classes, ground_truth)"
      ],
      "metadata": {
        "colab": {
          "base_uri": "https://localhost:8080/"
        },
        "id": "VGEJWZhwMfpj",
        "outputId": "3915a529-d873-42f5-c21d-894d4c3a1424"
      },
      "execution_count": 93,
      "outputs": [
        {
          "output_type": "execute_result",
          "data": {
            "text/plain": [
              "0.64"
            ]
          },
          "metadata": {},
          "execution_count": 93
        }
      ]
    },
    {
      "cell_type": "code",
      "source": [],
      "metadata": {
        "id": "CAZp901bNK0r"
      },
      "execution_count": null,
      "outputs": []
    }
  ]
}